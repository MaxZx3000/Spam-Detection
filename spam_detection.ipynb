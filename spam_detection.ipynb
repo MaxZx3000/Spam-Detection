{
 "cells": [
  {
   "cell_type": "markdown",
   "metadata": {},
   "source": [
    "# Spam Detection "
   ]
  },
  {
   "cell_type": "markdown",
   "metadata": {},
   "source": [
    "Library Import"
   ]
  },
  {
   "cell_type": "code",
   "execution_count": 163,
   "metadata": {},
   "outputs": [],
   "source": [
    "import numpy as np\n",
    "import pandas as pd\n",
    "import matplotlib.pyplot as plt\n",
    "import string\n",
    "import seaborn as sns\n",
    "from sklearn.feature_extraction.text import TfidfVectorizer, CountVectorizer\n",
    "from sklearn.naive_bayes import MultinomialNB\n",
    "from wordcloud import WordCloud\n",
    "from nltk import word_tokenize\n",
    "from sklearn.preprocessing import LabelEncoder\n",
    "from sklearn.model_selection import train_test_split"
   ]
  },
  {
   "cell_type": "markdown",
   "metadata": {},
   "source": [
    "Load Dataset"
   ]
  },
  {
   "cell_type": "code",
   "execution_count": 148,
   "metadata": {},
   "outputs": [],
   "source": [
    "v1_field = \"v1\"\n",
    "v2_field = \"v2\""
   ]
  },
  {
   "cell_type": "code",
   "execution_count": 149,
   "metadata": {},
   "outputs": [
    {
     "data": {
      "text/html": [
       "<div>\n",
       "<style scoped>\n",
       "    .dataframe tbody tr th:only-of-type {\n",
       "        vertical-align: middle;\n",
       "    }\n",
       "\n",
       "    .dataframe tbody tr th {\n",
       "        vertical-align: top;\n",
       "    }\n",
       "\n",
       "    .dataframe thead th {\n",
       "        text-align: right;\n",
       "    }\n",
       "</style>\n",
       "<table border=\"1\" class=\"dataframe\">\n",
       "  <thead>\n",
       "    <tr style=\"text-align: right;\">\n",
       "      <th></th>\n",
       "      <th>v1</th>\n",
       "      <th>v2</th>\n",
       "    </tr>\n",
       "  </thead>\n",
       "  <tbody>\n",
       "    <tr>\n",
       "      <th>0</th>\n",
       "      <td>ham</td>\n",
       "      <td>Go until jurong point, crazy.. Available only ...</td>\n",
       "    </tr>\n",
       "    <tr>\n",
       "      <th>1</th>\n",
       "      <td>ham</td>\n",
       "      <td>Ok lar... Joking wif u oni...</td>\n",
       "    </tr>\n",
       "    <tr>\n",
       "      <th>2</th>\n",
       "      <td>spam</td>\n",
       "      <td>Free entry in 2 a wkly comp to win FA Cup fina...</td>\n",
       "    </tr>\n",
       "    <tr>\n",
       "      <th>3</th>\n",
       "      <td>ham</td>\n",
       "      <td>U dun say so early hor... U c already then say...</td>\n",
       "    </tr>\n",
       "    <tr>\n",
       "      <th>4</th>\n",
       "      <td>ham</td>\n",
       "      <td>Nah I don't think he goes to usf, he lives aro...</td>\n",
       "    </tr>\n",
       "    <tr>\n",
       "      <th>...</th>\n",
       "      <td>...</td>\n",
       "      <td>...</td>\n",
       "    </tr>\n",
       "    <tr>\n",
       "      <th>5567</th>\n",
       "      <td>spam</td>\n",
       "      <td>This is the 2nd time we have tried 2 contact u...</td>\n",
       "    </tr>\n",
       "    <tr>\n",
       "      <th>5568</th>\n",
       "      <td>ham</td>\n",
       "      <td>Will Ì_ b going to esplanade fr home?</td>\n",
       "    </tr>\n",
       "    <tr>\n",
       "      <th>5569</th>\n",
       "      <td>ham</td>\n",
       "      <td>Pity, * was in mood for that. So...any other s...</td>\n",
       "    </tr>\n",
       "    <tr>\n",
       "      <th>5570</th>\n",
       "      <td>ham</td>\n",
       "      <td>The guy did some bitching but I acted like i'd...</td>\n",
       "    </tr>\n",
       "    <tr>\n",
       "      <th>5571</th>\n",
       "      <td>ham</td>\n",
       "      <td>Rofl. Its true to its name</td>\n",
       "    </tr>\n",
       "  </tbody>\n",
       "</table>\n",
       "<p>5572 rows × 2 columns</p>\n",
       "</div>"
      ],
      "text/plain": [
       "        v1                                                 v2\n",
       "0      ham  Go until jurong point, crazy.. Available only ...\n",
       "1      ham                      Ok lar... Joking wif u oni...\n",
       "2     spam  Free entry in 2 a wkly comp to win FA Cup fina...\n",
       "3      ham  U dun say so early hor... U c already then say...\n",
       "4      ham  Nah I don't think he goes to usf, he lives aro...\n",
       "...    ...                                                ...\n",
       "5567  spam  This is the 2nd time we have tried 2 contact u...\n",
       "5568   ham              Will Ì_ b going to esplanade fr home?\n",
       "5569   ham  Pity, * was in mood for that. So...any other s...\n",
       "5570   ham  The guy did some bitching but I acted like i'd...\n",
       "5571   ham                         Rofl. Its true to its name\n",
       "\n",
       "[5572 rows x 2 columns]"
      ]
     },
     "execution_count": 149,
     "metadata": {},
     "output_type": "execute_result"
    }
   ],
   "source": [
    "dataset_name = \"spam.csv\"\n",
    "spam_df = pd.read_csv(dataset_name, encoding = \"ISO-8859-1\")\n",
    "spam_df.drop([\"Unnamed: 2\", \"Unnamed: 3\", \"Unnamed: 4\"], axis = 1, inplace = True)\n",
    "spam_df"
   ]
  },
  {
   "cell_type": "markdown",
   "metadata": {},
   "source": [
    "## Data Visualization"
   ]
  },
  {
   "cell_type": "markdown",
   "metadata": {},
   "source": [
    "Word Cloud"
   ]
  },
  {
   "cell_type": "code",
   "execution_count": 150,
   "metadata": {},
   "outputs": [],
   "source": [
    "def visualize_word_cloud(documents, title, width, height):\n",
    "    word_cloud = WordCloud(width = width, height = height, random_state = 100)\n",
    "    text_from_all_documents = \" \".join(documents)\n",
    "    word_cloud.generate(text_from_all_documents)\n",
    "\n",
    "    plt.title(title)\n",
    "    plt.axis(\"off\")\n",
    "    plt.imshow(word_cloud)\n",
    "    plt.show()"
   ]
  },
  {
   "cell_type": "code",
   "execution_count": 151,
   "metadata": {},
   "outputs": [
    {
     "data": {
      "image/png": "[encoded data removed]",
      "text/plain": [
       "<Figure size 432x288 with 1 Axes>"
      ]
     },
     "metadata": {
      "needs_background": "light"
     },
     "output_type": "display_data"
    },
    {
     "data": {
      "image/png": "[encoded data removed]",
      "text/plain": [
       "<Figure size 432x288 with 1 Axes>"
      ]
     },
     "metadata": {
      "needs_background": "light"
     },
     "output_type": "display_data"
    }
   ],
   "source": [
    "visualize_word_cloud(spam_df[v2_field].loc[spam_df[v2_field].str.contains(\"spam\")], \"Spam Text Visualization\", 1500, 800)\n",
    "visualize_word_cloud(spam_df[v2_field].loc[spam_df[v2_field].str.contains(\"ham\")], \"Not Spam Text Visualization\", 1500, 800)"
   ]
  },
  {
   "cell_type": "markdown",
   "metadata": {},
   "source": [
    "Label Distribution"
   ]
  },
  {
   "cell_type": "code",
   "execution_count": 152,
   "metadata": {},
   "outputs": [
    {
     "data": {
      "text/plain": [
       "<AxesSubplot:xlabel='v1', ylabel='Count'>"
      ]
     },
     "execution_count": 152,
     "metadata": {},
     "output_type": "execute_result"
    },
    {
     "data": {
      "image/png": "[encoded data removed]",
      "text/plain": [
       "<Figure size 432x288 with 1 Axes>"
      ]
     },
     "metadata": {
      "needs_background": "light"
     },
     "output_type": "display_data"
    }
   ],
   "source": [
    "sns.histplot(spam_df[v1_field])"
   ]
  },
  {
   "cell_type": "markdown",
   "metadata": {},
   "source": [
    "## Data Preprocessing"
   ]
  },
  {
   "cell_type": "code",
   "execution_count": 153,
   "metadata": {},
   "outputs": [],
   "source": [
    "sms_texts = spam_df[v2_field]\n",
    "label = spam_df[v1_field]"
   ]
  },
  {
   "cell_type": "markdown",
   "metadata": {},
   "source": [
    "Remove All Punctuations"
   ]
  },
  {
   "cell_type": "code",
   "execution_count": 154,
   "metadata": {},
   "outputs": [
    {
     "data": {
      "text/plain": [
       "['Go until jurong point crazy Available only in bugis n great world la e buffet Cine there got amore wat',\n",
       " 'Ok lar Joking wif u oni',\n",
       " 'Free entry in 2 a wkly comp to win FA Cup final tkts 21st May 2005 Text FA to 87121 to receive entry question std txt rate T C s apply 08452810075over18 s']"
      ]
     },
     "execution_count": 154,
     "metadata": {},
     "output_type": "execute_result"
    }
   ],
   "source": [
    "def get_removed_duplicated_space_in_string(my_string):\n",
    "    return \" \".join(my_string.split())\n",
    "\n",
    "def get_erased_punctuations(text):\n",
    "    list_of_punctuations = string.punctuation + '\"‘'\n",
    "    final_text = text\n",
    "    \n",
    "    for punc in list_of_punctuations:\n",
    "        final_text = final_text.replace(punc, \" \")\n",
    "    \n",
    "    final_text = get_removed_duplicated_space_in_string(final_text)\n",
    "    \n",
    "    return final_text\n",
    "\n",
    "sms_texts_no_punc = [get_erased_punctuations(sms_text) for sms_text in sms_texts]\n",
    "sms_texts_no_punc[:3]"
   ]
  },
  {
   "cell_type": "markdown",
   "metadata": {},
   "source": [
    "Lowercase All Letters"
   ]
  },
  {
   "cell_type": "code",
   "execution_count": 155,
   "metadata": {},
   "outputs": [
    {
     "data": {
      "text/plain": [
       "['go until jurong point crazy available only in bugis n great world la e buffet cine there got amore wat',\n",
       " 'ok lar joking wif u oni',\n",
       " 'free entry in 2 a wkly comp to win fa cup final tkts 21st may 2005 text fa to 87121 to receive entry question std txt rate t c s apply 08452810075over18 s',\n",
       " 'u dun say so early hor u c already then say',\n",
       " 'nah i don t think he goes to usf he lives around here though']"
      ]
     },
     "execution_count": 155,
     "metadata": {},
     "output_type": "execute_result"
    }
   ],
   "source": [
    "def lowercase_letters(sentence):\n",
    "    return sentence.lower()\n",
    "\n",
    "sms_texts_lowercase = edgar_alian_poe_poem_lower_case = list(map(lowercase_letters, sms_texts_no_punc))\n",
    "sms_texts_lowercase[:5]"
   ]
  },
  {
   "cell_type": "markdown",
   "metadata": {},
   "source": [
    "Remove all digits"
   ]
  },
  {
   "cell_type": "code",
   "execution_count": 156,
   "metadata": {},
   "outputs": [
    {
     "data": {
      "text/plain": [
       "['go until jurong point crazy available only in bugis n great world la e buffet cine there got amore wat',\n",
       " 'ok lar joking wif u oni',\n",
       " 'free entry in  a wkly comp to win fa cup final tkts st may  text fa to  to receive entry question std txt rate t c s apply over s',\n",
       " 'u dun say so early hor u c already then say',\n",
       " 'nah i don t think he goes to usf he lives around here though',\n",
       " 'freemsg hey there darling it s been  week s now and no word back i d like some fun you up for it still tb ok xxx std chgs to send å£  to rcv',\n",
       " 'even my brother is not like to speak with me they treat me like aids patent',\n",
       " 'as per your request melle melle oru minnaminunginte nurungu vettam has been set as your callertune for all callers press  to copy your friends callertune',\n",
       " 'winner as a valued network customer you have been selected to receivea å£ prize reward to claim call  claim code kl valid  hours only',\n",
       " 'had your mobile  months or more u r entitled to update to the latest colour mobiles with camera for free call the mobile update co free on ',\n",
       " 'i m gonna be home soon and i don t want to talk about this stuff anymore tonight k i ve cried enough today',\n",
       " 'six chances to win cash from  to   pounds txt csh and send to  cost p day days  tsandcs apply reply hl  info',\n",
       " 'urgent you have won a  week free membership in our å£  prize jackpot txt the word claim to no  t c www dbuk net lccltd pobox ldnwarw',\n",
       " 'i ve been searching for the right words to thank you for this breather i promise i wont take your help for granted and will fulfil my promise you have been wonderful and a blessing at all times',\n",
       " 'i have a date on sunday with will',\n",
       " 'xxxmobilemovieclub to use your credit click the wap link in the next txt message or click here http wap xxxmobilemovieclub com n qjkgighjjgcbl',\n",
       " 'oh k i m watching here',\n",
       " 'eh u remember how  spell his name yes i did he v naughty make until i v wet',\n",
       " 'fine if thatåõs the way u feel thatåõs the way its gota b',\n",
       " 'england v macedonia dont miss the goals team news txt ur national team to  eg england to  try wales scotland txt ì¼  poboxoxwwq ',\n",
       " 'is that seriously how you spell his name',\n",
       " 'i\\x89û÷m going to try for  months ha ha only joking',\n",
       " 'so ì pay first lar then when is da stock comin',\n",
       " 'aft i finish my lunch then i go str down lor ard  smth lor u finish ur lunch already',\n",
       " 'ffffffffff alright no way i can meet up with you sooner',\n",
       " 'just forced myself to eat a slice i m really not hungry tho this sucks mark is getting worried he knows i m sick when i turn down pizza lol',\n",
       " 'lol your always so convincing',\n",
       " 'did you catch the bus are you frying an egg did you make a tea are you eating your mom s left over dinner do you feel my love',\n",
       " 'i m back amp we re packing the car now i ll let you know if there s room',\n",
       " 'ahhh work i vaguely remember that what does it feel like lol',\n",
       " 'wait that s still not all that clear were you not sure about me being sarcastic or that that s why x doesn t want to live with us',\n",
       " 'yeah he got in at  and was v apologetic n had fallen out and she was actin like spoilt child and he got caught up in that till  but we won t go there not doing too badly cheers you',\n",
       " 'k tell me anything about you',\n",
       " 'for fear of fainting with the of all that housework you just did quick have a cuppa',\n",
       " 'thanks for your subscription to ringtone uk your mobile will be charged å£ month please confirm by replying yes or no if you reply no you will not be charged',\n",
       " 'yup ok i go home look at the timings then i msg ì again xuhui going to learn on nd may too but her lesson is at am',\n",
       " 'oops i ll let you know when my roommate s done',\n",
       " 'i see the letter b on my car',\n",
       " 'anything lor u decide',\n",
       " 'hello how s you and how did saturday go i was just texting to see if you d decided to do anything tomo not that i m trying to invite myself or anything',\n",
       " 'pls go ahead with watts i just wanted to be sure do have a great weekend abiola',\n",
       " 'did i forget to tell you i want you i need you i crave you but most of all i love you my sweet arabian steed mmmmmm yummy',\n",
       " ' rodger burns msg we tried to call you re your reply to our sms for a free nokia mobile free camcorder please call now  for delivery tomorrow',\n",
       " 'who are you seeing',\n",
       " 'great i hope you like your man well endowed i am lt gt inches',\n",
       " 'no calls messages missed calls',\n",
       " 'didn t you get hep b immunisation in nigeria',\n",
       " 'fair enough anything going on',\n",
       " 'yeah hopefully if tyler can t do it i could maybe ask around a bit',\n",
       " 'u don t know how stubborn i am i didn t even want to go to the hospital i kept telling mark i m not a weak sucker hospitals are for weak suckers',\n",
       " 'what you thinked about me first time you saw me in class',\n",
       " 'a gram usually runs like lt gt a half eighth is smarter though and gets you almost a whole second gram for lt gt',\n",
       " 'k fyi x has a ride early tomorrow morning but he s crashing at our place tonight',\n",
       " 'wow i never realized that you were so embarassed by your accomodations i thought you liked it since i was doing the best i could and you always seemed so happy about the cave i m sorry i didn t and don t have more to give i m sorry i offered i m sorry your room was so embarassing',\n",
       " 'sms ac sptv the new jersey devils and the detroit red wings play ice hockey correct or incorrect end reply end sptv',\n",
       " 'do you know what mallika sherawat did yesterday find out now lt url gt',\n",
       " 'congrats  year special cinema pass for  is yours call  now c suprman v matrix starwars etc all  free bx ip we pm dont miss out',\n",
       " 'sorry i ll call later in meeting',\n",
       " 'tell where you reached',\n",
       " 'yes gauti and sehwag out of odi series',\n",
       " 'your gonna have to pick up a  burger for yourself on your way home i can t even move pain is killing me',\n",
       " 'ha ha ha good joke girls are situation seekers',\n",
       " 'its a part of checking iq',\n",
       " 'sorry my roommates took forever it ok if i come by now',\n",
       " 'ok lar i double check wif da hair dresser already he said wun cut v short he said will cut until i look nice',\n",
       " 'as a valued customer i am pleased to advise you that following recent review of your mob no you are awarded with a å£ bonus prize call ',\n",
       " 'today is song dedicated day which song will u dedicate for me send this to all ur valuable frnds but first rply me',\n",
       " 'urgent ur awarded a complimentary trip to eurodisinc trav aco entry or å£ to claim txt dis to    å£  morefrmmob shracomorsglsuplt  ls aj',\n",
       " 'did you hear about the new divorce barbie it comes with all of ken s stuff',\n",
       " 'i plane to give on this month end',\n",
       " 'wah lucky man then can save money hee',\n",
       " 'finished class where are you',\n",
       " 'hi babe im at home now wanna do something xx',\n",
       " 'k k where are you how did you performed',\n",
       " 'u can call me now',\n",
       " 'i am waiting machan call me once you free',\n",
       " 'thats cool i am a gentleman and will treat you with dignity and respect',\n",
       " 'i like you peoples very much but am very shy pa',\n",
       " 'does not operate after lt gt or what',\n",
       " 'its not the same here still looking for a job how much do ta s earn there',\n",
       " 'sorry i ll call later',\n",
       " 'k did you call me just now ah',\n",
       " 'ok i am on the way to home hi hi',\n",
       " 'you will be in the place of that man',\n",
       " 'yup next stop',\n",
       " 'i call you later don t have network if urgnt sms me',\n",
       " 'for real when u getting on yo i only need  more tickets and one more jacket and i m done i already used all my multis',\n",
       " 'yes i started to send requests to make it but pain came back so i m back in bed double coins at the factory too i gotta cash in all my nitros',\n",
       " 'i m really not up to it still tonight babe',\n",
       " 'ela kano il download come wen ur free',\n",
       " 'yeah do don\\x89û÷t stand to close tho you\\x89û÷ll catch something',\n",
       " 'sorry to be a pain is it ok if we meet another night i spent late afternoon in casualty and that means i haven t done any of y stuffmoro and that includes all my time sheets and that sorry',\n",
       " 'smile in pleasure smile in pain smile when trouble pours like rain smile when sum hurts u smile becoz someone still loves to see u smiling',\n",
       " 'please call our customer service representative on    between am pm as you have won a guaranteed å£ cash or å£ prize',\n",
       " 'havent planning to buy later i check already lido only got  show in e afternoon u finish work already',\n",
       " 'your free ringtone is waiting to be collected simply text the password mix to  to verify get usher and britney fml',\n",
       " 'watching telugu movie wat abt u',\n",
       " 'i see when we finish we have loads of loans to pay',\n",
       " 'hi wk been ok on hols now yes on for a bit of a run forgot that i have hairdressers appointment at four so need to get home n shower beforehand does that cause prob for u ham',\n",
       " 'please don t text me anymore i have nothing else to say']"
      ]
     },
     "execution_count": 156,
     "metadata": {},
     "output_type": "execute_result"
    }
   ],
   "source": [
    "def erase_all_digits_from_sentence(sentence):\n",
    "    digits = string.digits\n",
    "    table = str.maketrans('', '', digits)\n",
    "    new_string = sentence.translate(table)\n",
    "    return new_string\n",
    "\n",
    "sms_texts_erased_digits = [erase_all_digits_from_sentence(sentence) for sentence in sms_texts_lowercase]\n",
    "sms_texts_erased_digits[:100]"
   ]
  },
  {
   "cell_type": "markdown",
   "metadata": {},
   "source": [
    "Re-apply the data into dataframe"
   ]
  },
  {
   "cell_type": "code",
   "execution_count": 157,
   "metadata": {},
   "outputs": [
    {
     "data": {
      "text/html": [
       "<div>\n",
       "<style scoped>\n",
       "    .dataframe tbody tr th:only-of-type {\n",
       "        vertical-align: middle;\n",
       "    }\n",
       "\n",
       "    .dataframe tbody tr th {\n",
       "        vertical-align: top;\n",
       "    }\n",
       "\n",
       "    .dataframe thead th {\n",
       "        text-align: right;\n",
       "    }\n",
       "</style>\n",
       "<table border=\"1\" class=\"dataframe\">\n",
       "  <thead>\n",
       "    <tr style=\"text-align: right;\">\n",
       "      <th></th>\n",
       "      <th>v1</th>\n",
       "      <th>v2</th>\n",
       "    </tr>\n",
       "  </thead>\n",
       "  <tbody>\n",
       "    <tr>\n",
       "      <th>0</th>\n",
       "      <td>ham</td>\n",
       "      <td>go until jurong point crazy available only in ...</td>\n",
       "    </tr>\n",
       "    <tr>\n",
       "      <th>1</th>\n",
       "      <td>ham</td>\n",
       "      <td>ok lar joking wif u oni</td>\n",
       "    </tr>\n",
       "    <tr>\n",
       "      <th>2</th>\n",
       "      <td>spam</td>\n",
       "      <td>free entry in  a wkly comp to win fa cup final...</td>\n",
       "    </tr>\n",
       "    <tr>\n",
       "      <th>3</th>\n",
       "      <td>ham</td>\n",
       "      <td>u dun say so early hor u c already then say</td>\n",
       "    </tr>\n",
       "    <tr>\n",
       "      <th>4</th>\n",
       "      <td>ham</td>\n",
       "      <td>nah i don t think he goes to usf he lives arou...</td>\n",
       "    </tr>\n",
       "    <tr>\n",
       "      <th>...</th>\n",
       "      <td>...</td>\n",
       "      <td>...</td>\n",
       "    </tr>\n",
       "    <tr>\n",
       "      <th>5567</th>\n",
       "      <td>spam</td>\n",
       "      <td>this is the nd time we have tried  contact u u...</td>\n",
       "    </tr>\n",
       "    <tr>\n",
       "      <th>5568</th>\n",
       "      <td>ham</td>\n",
       "      <td>will ì b going to esplanade fr home</td>\n",
       "    </tr>\n",
       "    <tr>\n",
       "      <th>5569</th>\n",
       "      <td>ham</td>\n",
       "      <td>pity was in mood for that so any other suggest...</td>\n",
       "    </tr>\n",
       "    <tr>\n",
       "      <th>5570</th>\n",
       "      <td>ham</td>\n",
       "      <td>the guy did some bitching but i acted like i d...</td>\n",
       "    </tr>\n",
       "    <tr>\n",
       "      <th>5571</th>\n",
       "      <td>ham</td>\n",
       "      <td>rofl its true to its name</td>\n",
       "    </tr>\n",
       "  </tbody>\n",
       "</table>\n",
       "<p>5572 rows × 2 columns</p>\n",
       "</div>"
      ],
      "text/plain": [
       "        v1                                                 v2\n",
       "0      ham  go until jurong point crazy available only in ...\n",
       "1      ham                            ok lar joking wif u oni\n",
       "2     spam  free entry in  a wkly comp to win fa cup final...\n",
       "3      ham        u dun say so early hor u c already then say\n",
       "4      ham  nah i don t think he goes to usf he lives arou...\n",
       "...    ...                                                ...\n",
       "5567  spam  this is the nd time we have tried  contact u u...\n",
       "5568   ham                will ì b going to esplanade fr home\n",
       "5569   ham  pity was in mood for that so any other suggest...\n",
       "5570   ham  the guy did some bitching but i acted like i d...\n",
       "5571   ham                          rofl its true to its name\n",
       "\n",
       "[5572 rows x 2 columns]"
      ]
     },
     "execution_count": 157,
     "metadata": {},
     "output_type": "execute_result"
    }
   ],
   "source": [
    "applied_preprocessing_spam_df = spam_df.copy()\n",
    "applied_preprocessing_spam_df[v2_field] = sms_texts_erased_digits\n",
    "applied_preprocessing_spam_df"
   ]
  },
  {
   "cell_type": "code",
   "execution_count": 158,
   "metadata": {},
   "outputs": [
    {
     "name": "stdout",
     "output_type": "stream",
     "text": [
      "<class 'pandas.core.frame.DataFrame'>\n",
      "RangeIndex: 5572 entries, 0 to 5571\n",
      "Data columns (total 2 columns):\n",
      " #   Column  Non-Null Count  Dtype \n",
      "---  ------  --------------  ----- \n",
      " 0   v1      5572 non-null   object\n",
      " 1   v2      5572 non-null   object\n",
      "dtypes: object(2)\n",
      "memory usage: 87.2+ KB\n"
     ]
    }
   ],
   "source": [
    "applied_preprocessing_spam_df.info()"
   ]
  },
  {
   "cell_type": "markdown",
   "metadata": {},
   "source": [
    "Train Test Split"
   ]
  },
  {
   "cell_type": "code",
   "execution_count": 172,
   "metadata": {},
   "outputs": [
    {
     "name": "stdout",
     "output_type": "stream",
     "text": [
      "0       go until jurong point crazy available only in ...\n",
      "1                                 ok lar joking wif u oni\n",
      "2       free entry in  a wkly comp to win fa cup final...\n",
      "3             u dun say so early hor u c already then say\n",
      "4       nah i don t think he goes to usf he lives arou...\n",
      "                              ...                        \n",
      "5566    reminder from o to get   pounds free call cred...\n",
      "5568                  will ì b going to esplanade fr home\n",
      "5569    pity was in mood for that so any other suggest...\n",
      "5570    the guy did some bitching but i acted like i d...\n",
      "5571                            rofl its true to its name\n",
      "Name: v2, Length: 4736, dtype: object\n",
      "(4736,)\n",
      "(836,)\n",
      "(4736,)\n",
      "(836,)\n"
     ]
    }
   ],
   "source": [
    "x_train, x_test, y_train, y_test = train_test_split(\n",
    "    applied_preprocessing_spam_df[v2_field], \n",
    "    applied_preprocessing_spam_df[v1_field], \n",
    "    test_size = 0.15,\n",
    "    random_state = 100\n",
    ")\n",
    "\n",
    "x_train = x_train.sort_index()\n",
    "x_test = x_test.sort_index()\n",
    "y_train = y_train.sort_index()\n",
    "y_test = y_test.sort_index()\n",
    "\n",
    "print(x_train)\n",
    "\n",
    "print(x_train.shape)\n",
    "print(x_test.shape)\n",
    "print(y_train.shape)\n",
    "print(y_test.shape)"
   ]
  },
  {
   "cell_type": "markdown",
   "metadata": {},
   "source": [
    "Tf Idf Vectorizer using SKLearn\n",
    "\n",
    "See TF-IDF-From-Scratch to see the manual implementation of Standard TF-IDF. Since this colab is only focused on naive bayes, we're going to use TFIdfVectorizer from Sklearn"
   ]
  },
  {
   "cell_type": "code",
   "execution_count": 173,
   "metadata": {},
   "outputs": [
    {
     "name": "stdout",
     "output_type": "stream",
     "text": [
      "0 5571\n",
      "0 5571\n",
      "(4736, 7236)\n",
      "['aah' 'aaniye' 'aaooooright' 'aathi' 'ab' 'abbey' 'abdomen' 'abeg' 'abel'\n",
      " 'aberdeen' 'abi' 'ability' 'abiola' 'abj' 'able' 'abnormally' 'about'\n",
      " 'aboutas' 'above' 'abroad' 'absence' 'absolutly' 'abstract' 'abt' 'abta'\n",
      " 'aburo' 'abuse' 'abusers' 'ac' 'academic' 'acc' 'accent' 'accenture'\n",
      " 'accept' 'access' 'accidant' 'accident' 'accidentally' 'accommodation'\n",
      " 'accommodationvouchers' 'accomodate' 'accomodations' 'accordin'\n",
      " 'accordingly' 'account' 'accounting' 'accounts' 'accumulation' 'achan'\n",
      " 'ache' 'achieve' 'acid' 'aclpm' 'acnt' 'aco' 'across' 'acted' 'actin'\n",
      " 'action' 'activ' 'activate' 'active' 'activities' 'actor' 'actual'\n",
      " 'actually' 'ad' 'ada' 'adam' 'add' 'addamsfa' 'added' 'addicted' 'addie'\n",
      " 'adding' 'address' 'adds' 'adewale' 'admin' 'administrator' 'admirer'\n",
      " 'admission' 'admit' 'adore' 'adoring' 'adp' 'adress' 'adrian' 'ads'\n",
      " 'adsense' 'adult' 'adults' 'advance' 'adventure' 'adventuring' 'advice'\n",
      " 'advise' 'advising' 'advisors' 'ae']\n",
      "(7236,)\n"
     ]
    }
   ],
   "source": [
    "count_vectorizer = CountVectorizer()\n",
    "train_vector_components = count_vectorizer.fit_transform(x_train)\n",
    "test_vector_components = count_vectorizer.transform(x_test)\n",
    "features = count_vectorizer.get_feature_names_out()\n",
    "\n",
    "# print(x_train.sort_index())\n",
    "# print(y_train.sort_index())\n",
    "\n",
    "print(f\"{x_train.index.min()} {x_train.index.max()}\")\n",
    "print(f\"{y_train.index.min()} {y_train.index.max()}\")\n",
    "\n",
    "print(train_vector_components.shape)\n",
    "print(features[:100])\n",
    "print(features.shape)"
   ]
  },
  {
   "cell_type": "markdown",
   "metadata": {},
   "source": [
    "Perform Label Encoding"
   ]
  },
  {
   "cell_type": "code",
   "execution_count": 174,
   "metadata": {},
   "outputs": [],
   "source": [
    "label_encoder = LabelEncoder()\n",
    "y_train_encoded = label_encoder.fit_transform(y_train)\n",
    "y_test_encoded = label_encoder.transform(y_test)"
   ]
  },
  {
   "cell_type": "markdown",
   "metadata": {},
   "source": [
    "## Data Modelling"
   ]
  },
  {
   "cell_type": "code",
   "execution_count": 176,
   "metadata": {},
   "outputs": [
    {
     "name": "stdout",
     "output_type": "stream",
     "text": [
      "(4736,)\n",
      "(1, 61377)\n"
     ]
    },
    {
     "name": "stderr",
     "output_type": "stream",
     "text": [
      "C:\\Users\\user\\AppData\\Local\\Temp\\ipykernel_23496\\2787641090.py:15: PerformanceWarning: DataFrame is highly fragmented.  This is usually the result of calling `frame.insert` many times, which has poor performance.  Consider joining all columns at once using pd.concat(axis=1) instead.  To get a de-fragmented frame, use `newframe = frame.copy()`\n",
      "  vector_component_df[\"target\"] = copy_targets\n"
     ]
    },
    {
     "data": {
      "text/html": [
       "<div>\n",
       "<style scoped>\n",
       "    .dataframe tbody tr th:only-of-type {\n",
       "        vertical-align: middle;\n",
       "    }\n",
       "\n",
       "    .dataframe tbody tr th {\n",
       "        vertical-align: top;\n",
       "    }\n",
       "\n",
       "    .dataframe thead th {\n",
       "        text-align: right;\n",
       "    }\n",
       "</style>\n",
       "<table border=\"1\" class=\"dataframe\">\n",
       "  <thead>\n",
       "    <tr style=\"text-align: right;\">\n",
       "      <th></th>\n",
       "      <th>aah</th>\n",
       "      <th>aaniye</th>\n",
       "      <th>aaooooright</th>\n",
       "      <th>aathi</th>\n",
       "      <th>ab</th>\n",
       "      <th>abbey</th>\n",
       "      <th>abdomen</th>\n",
       "      <th>abeg</th>\n",
       "      <th>abel</th>\n",
       "      <th>aberdeen</th>\n",
       "      <th>...</th>\n",
       "      <th>ì¼</th>\n",
       "      <th>ìï</th>\n",
       "      <th>ûªm</th>\n",
       "      <th>ûªt</th>\n",
       "      <th>ûªve</th>\n",
       "      <th>ûï</th>\n",
       "      <th>ûïharry</th>\n",
       "      <th>ûò</th>\n",
       "      <th>ûówell</th>\n",
       "      <th>target</th>\n",
       "    </tr>\n",
       "  </thead>\n",
       "  <tbody>\n",
       "    <tr>\n",
       "      <th>0</th>\n",
       "      <td>0</td>\n",
       "      <td>0</td>\n",
       "      <td>0</td>\n",
       "      <td>0</td>\n",
       "      <td>0</td>\n",
       "      <td>0</td>\n",
       "      <td>0</td>\n",
       "      <td>0</td>\n",
       "      <td>0</td>\n",
       "      <td>0</td>\n",
       "      <td>...</td>\n",
       "      <td>0</td>\n",
       "      <td>0</td>\n",
       "      <td>0</td>\n",
       "      <td>0</td>\n",
       "      <td>0</td>\n",
       "      <td>0</td>\n",
       "      <td>0</td>\n",
       "      <td>0</td>\n",
       "      <td>0</td>\n",
       "      <td>ham</td>\n",
       "    </tr>\n",
       "    <tr>\n",
       "      <th>1</th>\n",
       "      <td>0</td>\n",
       "      <td>0</td>\n",
       "      <td>0</td>\n",
       "      <td>0</td>\n",
       "      <td>0</td>\n",
       "      <td>0</td>\n",
       "      <td>0</td>\n",
       "      <td>0</td>\n",
       "      <td>0</td>\n",
       "      <td>0</td>\n",
       "      <td>...</td>\n",
       "      <td>0</td>\n",
       "      <td>0</td>\n",
       "      <td>0</td>\n",
       "      <td>0</td>\n",
       "      <td>0</td>\n",
       "      <td>0</td>\n",
       "      <td>0</td>\n",
       "      <td>0</td>\n",
       "      <td>0</td>\n",
       "      <td>ham</td>\n",
       "    </tr>\n",
       "    <tr>\n",
       "      <th>2</th>\n",
       "      <td>0</td>\n",
       "      <td>0</td>\n",
       "      <td>0</td>\n",
       "      <td>0</td>\n",
       "      <td>0</td>\n",
       "      <td>0</td>\n",
       "      <td>0</td>\n",
       "      <td>0</td>\n",
       "      <td>0</td>\n",
       "      <td>0</td>\n",
       "      <td>...</td>\n",
       "      <td>0</td>\n",
       "      <td>0</td>\n",
       "      <td>0</td>\n",
       "      <td>0</td>\n",
       "      <td>0</td>\n",
       "      <td>0</td>\n",
       "      <td>0</td>\n",
       "      <td>0</td>\n",
       "      <td>0</td>\n",
       "      <td>spam</td>\n",
       "    </tr>\n",
       "    <tr>\n",
       "      <th>3</th>\n",
       "      <td>0</td>\n",
       "      <td>0</td>\n",
       "      <td>0</td>\n",
       "      <td>0</td>\n",
       "      <td>0</td>\n",
       "      <td>0</td>\n",
       "      <td>0</td>\n",
       "      <td>0</td>\n",
       "      <td>0</td>\n",
       "      <td>0</td>\n",
       "      <td>...</td>\n",
       "      <td>0</td>\n",
       "      <td>0</td>\n",
       "      <td>0</td>\n",
       "      <td>0</td>\n",
       "      <td>0</td>\n",
       "      <td>0</td>\n",
       "      <td>0</td>\n",
       "      <td>0</td>\n",
       "      <td>0</td>\n",
       "      <td>ham</td>\n",
       "    </tr>\n",
       "    <tr>\n",
       "      <th>4</th>\n",
       "      <td>0</td>\n",
       "      <td>0</td>\n",
       "      <td>0</td>\n",
       "      <td>0</td>\n",
       "      <td>0</td>\n",
       "      <td>0</td>\n",
       "      <td>0</td>\n",
       "      <td>0</td>\n",
       "      <td>0</td>\n",
       "      <td>0</td>\n",
       "      <td>...</td>\n",
       "      <td>0</td>\n",
       "      <td>0</td>\n",
       "      <td>0</td>\n",
       "      <td>0</td>\n",
       "      <td>0</td>\n",
       "      <td>0</td>\n",
       "      <td>0</td>\n",
       "      <td>0</td>\n",
       "      <td>0</td>\n",
       "      <td>ham</td>\n",
       "    </tr>\n",
       "    <tr>\n",
       "      <th>...</th>\n",
       "      <td>...</td>\n",
       "      <td>...</td>\n",
       "      <td>...</td>\n",
       "      <td>...</td>\n",
       "      <td>...</td>\n",
       "      <td>...</td>\n",
       "      <td>...</td>\n",
       "      <td>...</td>\n",
       "      <td>...</td>\n",
       "      <td>...</td>\n",
       "      <td>...</td>\n",
       "      <td>...</td>\n",
       "      <td>...</td>\n",
       "      <td>...</td>\n",
       "      <td>...</td>\n",
       "      <td>...</td>\n",
       "      <td>...</td>\n",
       "      <td>...</td>\n",
       "      <td>...</td>\n",
       "      <td>...</td>\n",
       "      <td>...</td>\n",
       "    </tr>\n",
       "    <tr>\n",
       "      <th>4731</th>\n",
       "      <td>0</td>\n",
       "      <td>0</td>\n",
       "      <td>0</td>\n",
       "      <td>0</td>\n",
       "      <td>0</td>\n",
       "      <td>0</td>\n",
       "      <td>0</td>\n",
       "      <td>0</td>\n",
       "      <td>0</td>\n",
       "      <td>0</td>\n",
       "      <td>...</td>\n",
       "      <td>0</td>\n",
       "      <td>0</td>\n",
       "      <td>0</td>\n",
       "      <td>0</td>\n",
       "      <td>0</td>\n",
       "      <td>0</td>\n",
       "      <td>0</td>\n",
       "      <td>0</td>\n",
       "      <td>0</td>\n",
       "      <td>spam</td>\n",
       "    </tr>\n",
       "    <tr>\n",
       "      <th>4732</th>\n",
       "      <td>0</td>\n",
       "      <td>0</td>\n",
       "      <td>0</td>\n",
       "      <td>0</td>\n",
       "      <td>0</td>\n",
       "      <td>0</td>\n",
       "      <td>0</td>\n",
       "      <td>0</td>\n",
       "      <td>0</td>\n",
       "      <td>0</td>\n",
       "      <td>...</td>\n",
       "      <td>0</td>\n",
       "      <td>0</td>\n",
       "      <td>0</td>\n",
       "      <td>0</td>\n",
       "      <td>0</td>\n",
       "      <td>0</td>\n",
       "      <td>0</td>\n",
       "      <td>0</td>\n",
       "      <td>0</td>\n",
       "      <td>ham</td>\n",
       "    </tr>\n",
       "    <tr>\n",
       "      <th>4733</th>\n",
       "      <td>0</td>\n",
       "      <td>0</td>\n",
       "      <td>0</td>\n",
       "      <td>0</td>\n",
       "      <td>0</td>\n",
       "      <td>0</td>\n",
       "      <td>0</td>\n",
       "      <td>0</td>\n",
       "      <td>0</td>\n",
       "      <td>0</td>\n",
       "      <td>...</td>\n",
       "      <td>0</td>\n",
       "      <td>0</td>\n",
       "      <td>0</td>\n",
       "      <td>0</td>\n",
       "      <td>0</td>\n",
       "      <td>0</td>\n",
       "      <td>0</td>\n",
       "      <td>0</td>\n",
       "      <td>0</td>\n",
       "      <td>ham</td>\n",
       "    </tr>\n",
       "    <tr>\n",
       "      <th>4734</th>\n",
       "      <td>0</td>\n",
       "      <td>0</td>\n",
       "      <td>0</td>\n",
       "      <td>0</td>\n",
       "      <td>0</td>\n",
       "      <td>0</td>\n",
       "      <td>0</td>\n",
       "      <td>0</td>\n",
       "      <td>0</td>\n",
       "      <td>0</td>\n",
       "      <td>...</td>\n",
       "      <td>0</td>\n",
       "      <td>0</td>\n",
       "      <td>0</td>\n",
       "      <td>0</td>\n",
       "      <td>0</td>\n",
       "      <td>0</td>\n",
       "      <td>0</td>\n",
       "      <td>0</td>\n",
       "      <td>0</td>\n",
       "      <td>ham</td>\n",
       "    </tr>\n",
       "    <tr>\n",
       "      <th>4735</th>\n",
       "      <td>0</td>\n",
       "      <td>0</td>\n",
       "      <td>0</td>\n",
       "      <td>0</td>\n",
       "      <td>0</td>\n",
       "      <td>0</td>\n",
       "      <td>0</td>\n",
       "      <td>0</td>\n",
       "      <td>0</td>\n",
       "      <td>0</td>\n",
       "      <td>...</td>\n",
       "      <td>0</td>\n",
       "      <td>0</td>\n",
       "      <td>0</td>\n",
       "      <td>0</td>\n",
       "      <td>0</td>\n",
       "      <td>0</td>\n",
       "      <td>0</td>\n",
       "      <td>0</td>\n",
       "      <td>0</td>\n",
       "      <td>ham</td>\n",
       "    </tr>\n",
       "  </tbody>\n",
       "</table>\n",
       "<p>4736 rows × 7237 columns</p>\n",
       "</div>"
      ],
      "text/plain": [
       "      aah  aaniye  aaooooright  aathi  ab  abbey  abdomen  abeg  abel  \\\n",
       "0       0       0            0      0   0      0        0     0     0   \n",
       "1       0       0            0      0   0      0        0     0     0   \n",
       "2       0       0            0      0   0      0        0     0     0   \n",
       "3       0       0            0      0   0      0        0     0     0   \n",
       "4       0       0            0      0   0      0        0     0     0   \n",
       "...   ...     ...          ...    ...  ..    ...      ...   ...   ...   \n",
       "4731    0       0            0      0   0      0        0     0     0   \n",
       "4732    0       0            0      0   0      0        0     0     0   \n",
       "4733    0       0            0      0   0      0        0     0     0   \n",
       "4734    0       0            0      0   0      0        0     0     0   \n",
       "4735    0       0            0      0   0      0        0     0     0   \n",
       "\n",
       "      aberdeen  ...  ì¼  ìï  ûªm  ûªt  ûªve  ûï  ûïharry  ûò  ûówell  target  \n",
       "0            0  ...   0   0    0    0     0   0        0   0       0     ham  \n",
       "1            0  ...   0   0    0    0     0   0        0   0       0     ham  \n",
       "2            0  ...   0   0    0    0     0   0        0   0       0    spam  \n",
       "3            0  ...   0   0    0    0     0   0        0   0       0     ham  \n",
       "4            0  ...   0   0    0    0     0   0        0   0       0     ham  \n",
       "...        ...  ...  ..  ..  ...  ...   ...  ..      ...  ..     ...     ...  \n",
       "4731         0  ...   0   0    0    0     0   0        0   0       0    spam  \n",
       "4732         0  ...   0   0    0    0     0   0        0   0       0     ham  \n",
       "4733         0  ...   0   0    0    0     0   0        0   0       0     ham  \n",
       "4734         0  ...   0   0    0    0     0   0        0   0       0     ham  \n",
       "4735         0  ...   0   0    0    0     0   0        0   0       0     ham  \n",
       "\n",
       "[4736 rows x 7237 columns]"
      ]
     },
     "execution_count": 176,
     "metadata": {},
     "output_type": "execute_result"
    }
   ],
   "source": [
    "def get_vector_components_with_targets_vector(vector_components, feature_names, targets):\n",
    "    copy_vector_components = vector_components.copy()\n",
    "    copy_feature_names = feature_names.copy()\n",
    "    copy_targets = targets.copy()\n",
    "\n",
    "    vector_component_df = pd.DataFrame.sparse.from_spmatrix(copy_vector_components)\n",
    "    vector_component_df.columns = copy_feature_names\n",
    "\n",
    "    copy_targets = copy_targets.reset_index(drop = True)\n",
    "    # print(copy_targets.index.min())\n",
    "    # print(copy_targets.index.max())\n",
    "    # print(vector_component_df.index.min())\n",
    "    # print(vector_component_df.index.max())\n",
    "    # vector_component_df = pd.concat([vector_component_df, targets], axis = 0)\n",
    "    vector_component_df[\"target\"] = copy_targets\n",
    "    return vector_component_df\n",
    "\n",
    "print(y_train.shape)\n",
    "print(train_vector_components[train_vector_components > 0].shape)\n",
    "\n",
    "vector_component_with_target = get_vector_components_with_targets_vector(train_vector_components, features, y_train)\n",
    "vector_component_with_target"
   ]
  },
  {
   "cell_type": "markdown",
   "metadata": {},
   "source": [
    "Naive Bayes Modelling. In this case, we're going to implement Naive Bayes Algorithm"
   ]
  },
  {
   "cell_type": "code",
   "execution_count": 187,
   "metadata": {},
   "outputs": [
    {
     "name": "stdout",
     "output_type": "stream",
     "text": [
      "[0 1]\n",
      "[0.86549831 0.13450169]\n",
      "  (0, 209)\t1\n",
      "  (0, 430)\t1\n",
      "  (0, 827)\t1\n",
      "  (0, 829)\t1\n",
      "  (0, 1106)\t1\n",
      "  (0, 1361)\t1\n",
      "  (0, 2497)\t1\n",
      "  (0, 2538)\t1\n",
      "  (0, 2574)\t1\n",
      "  (0, 2998)\t1\n",
      "  (0, 3241)\t1\n",
      "  (0, 3355)\t1\n",
      "  (0, 4333)\t1\n",
      "  (0, 4688)\t1\n",
      "  (0, 6273)\t1\n",
      "  (0, 6634)\t1\n",
      "  (0, 6841)\t1\n",
      "  (0, 7055)\t1\n",
      "  (1, 3210)\t1\n",
      "  (1, 3388)\t1\n",
      "  (1, 4305)\t1\n",
      "  (1, 4329)\t1\n",
      "  (1, 6962)\t1\n",
      "  (2, 293)\t1\n",
      "  (2, 1211)\t1\n",
      "  :\t:\n",
      "  (4734, 852)\t1\n",
      "  (4734, 861)\t1\n",
      "  (4734, 1613)\t1\n",
      "  (4734, 1888)\t1\n",
      "  (4734, 2275)\t1\n",
      "  (4734, 2318)\t1\n",
      "  (4734, 2422)\t1\n",
      "  (4734, 2626)\t1\n",
      "  (4734, 2712)\t1\n",
      "  (4734, 2998)\t1\n",
      "  (4734, 3065)\t1\n",
      "  (4734, 3117)\t1\n",
      "  (4734, 3487)\t1\n",
      "  (4734, 4151)\t1\n",
      "  (4734, 5720)\t1\n",
      "  (4734, 5729)\t1\n",
      "  (4734, 6257)\t1\n",
      "  (4734, 6382)\t1\n",
      "  (4734, 6664)\t1\n",
      "  (4734, 6886)\t1\n",
      "  (4735, 3124)\t2\n",
      "  (4735, 4072)\t1\n",
      "  (4735, 5223)\t1\n",
      "  (4735, 6382)\t1\n",
      "  (4735, 6503)\t1\n",
      "[0 0 1 ... 0 0 0]\n"
     ]
    }
   ],
   "source": [
    "class MultinomialNaiveBayes():\n",
    "    def __init__(self):\n",
    "        self.vector_components = None\n",
    "        self.classes = None\n",
    "        self.classes_proba = None\n",
    "        self.feature_given_target_proba = None\n",
    "    \n",
    "    def _calculate_target_given_features_proba(self):\n",
    "        # Formula Example:\n",
    "        # P(BMI, Age | Severe) P (severe) \n",
    "        # ----------------------------------------------------------\n",
    "        # P(BMI, Age | severe) P (severe) + P(BMI, Age | mild) P(mild)\n",
    "        # Results: P (severe | BMI)\n",
    "        pass\n",
    "    \n",
    "    def _calculate_per_feature_proba(self):\n",
    "        # Probability of getting a target value.\n",
    "        # Example: P(severe)\n",
    "        unique_classes, number_of_occurences = np.unique(self.classes, return_counts = True)\n",
    "        self.classes_proba = number_of_occurences / self.classes.shape[0]\n",
    "\n",
    "        print(unique_classes)\n",
    "        print(self.classes_proba)\n",
    "        \n",
    "    def _calculate_feature_given_target_proba(self):\n",
    "        # Calculate the number of all features per classes.\n",
    "        # This is the naive feature.\n",
    "        # Naive feature, that assuming all features are independent\n",
    "\n",
    "        # Example:       Severe       Mild\n",
    "        #        Well      3            5\n",
    "        #        Good      0            10\n",
    "        #        Done      4            1\n",
    "        #   Total Class    7            16\n",
    "        # Probability:\n",
    "        # P (Well | Severe) = 3 / 7\n",
    "        # P (Good | Severe) = 0 / 7\n",
    "        # P (Well | Mild) = 5 / 16\n",
    "        # P (Good | Mild) = 10 / 16\n",
    "        # And so on.\n",
    "        # Used for finding P(Well, Good, Done | Mild) and P (Well, Good, Done | Severe)\n",
    "        # e.g. P(BMI, Age | Y) = P(BMI | Y) P (Age | Y)\n",
    "        number_of_rows = self.vector_components.shape[0]\n",
    "        print(number_of_rows)\n",
    "        # for i in range(self.vector_components):\n",
    "\n",
    "\n",
    "        pass\n",
    "\n",
    "    def _determine_argmax(self):\n",
    "        # Determine the best values from all probabilities.\n",
    "        # The value with the highest probability of a class is the chosen one.\n",
    "        return np.argmax(self.classes_proba)\n",
    "\n",
    "\n",
    "    def fit(self, vector_components, classes):\n",
    "        self.vector_components = vector_components\n",
    "        self.classes = classes\n",
    "\n",
    "        # Core functions of naive bayes\n",
    "\n",
    "        self._calculate_per_feature_proba()\n",
    "        self._calculate_\n",
    "        print(vector_components)\n",
    "        print(classes)\n",
    "        # print(vector_components.shape)\n",
    "        # print(classes.shape)\n",
    "        \n",
    "\n",
    "multinomial_naive_bayes = MultinomialNaiveBayes()\n",
    "multinomial_naive_bayes.fit(train_vector_components, y_train_encoded)"
   ]
  },
  {
   "cell_type": "markdown",
   "metadata": {},
   "source": [
    "Compare with SKLearn Model"
   ]
  },
  {
   "cell_type": "code",
   "execution_count": null,
   "metadata": {},
   "outputs": [
    {
     "name": "stdout",
     "output_type": "stream",
     "text": [
      "[[1.00000000e+00 1.55914563e-10]\n",
      " [2.23449842e-08 9.99999978e-01]\n",
      " [9.99816434e-01 1.83566095e-04]\n",
      " ...\n",
      " [8.12584183e-01 1.87415817e-01]\n",
      " [9.99917190e-01 8.28103374e-05]\n",
      " [6.80606497e-14 1.00000000e+00]]\n"
     ]
    }
   ],
   "source": [
    "multinomial_nb = MultinomialNB()\n",
    "multinomial_nb.fit(train_vector_components, y_train)\n",
    "print(multinomial_nb.predict_proba(test_vector_components))"
   ]
  }
 ],
 "metadata": {
  "kernelspec": {
   "display_name": "Python 3.9.7 ('base')",
   "language": "python",
   "name": "python3"
  },
  "language_info": {
   "codemirror_mode": {
    "name": "ipython",
    "version": 3
   },
   "file_extension": ".py",
   "mimetype": "text/x-python",
   "name": "python",
   "nbconvert_exporter": "python",
   "pygments_lexer": "ipython3",
   "version": "3.9.7"
  },
  "orig_nbformat": 4,
  "vscode": {
   "interpreter": {
    "hash": "a077222d77dfe082b8f1dd562ad70e458ac2ab76993a0b248ab0476e32e9e8dd"
   }
  }
 },
 "nbformat": 4,
 "nbformat_minor": 2
}
